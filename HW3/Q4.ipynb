{
 "cells": [
  {
   "cell_type": "code",
   "execution_count": 59,
   "id": "8f08814d",
   "metadata": {},
   "outputs": [
    {
     "name": "stdout",
     "output_type": "stream",
     "text": [
      "[0.12182741116751268, 0.06091370558375634, 0.2081218274111675, 0.22335025380710655, 0.17258883248730963, 0.21319796954314718]\n",
      "[0.13043478260869562, 0.06521739130434781, 0.217391304347826, 0.217391304347826, 0.17391304347826084, 0.19565217391304343]\n"
     ]
    }
   ],
   "source": [
    "def mat_mul(M,r):\n",
    "    lst=[]\n",
    "    for i in range(0,len(M)):\n",
    "        elem=0\n",
    "        for j in range(0,len(M[0])):\n",
    "            elem=elem+M[i][j]*r[j]\n",
    "        lst.append(elem)\n",
    "    return lst\n",
    "def equi(lst1,lst2):\n",
    "    if(len(lst1)==len(lst2)):\n",
    "        flag=0\n",
    "        for i in range(0,len(lst1)):\n",
    "            if(lst1[i]!=lst2[i]):\n",
    "                flag=flag+1\n",
    "        if(flag==0):\n",
    "            return True\n",
    "        else:\n",
    "            return False\n",
    "    else:\n",
    "        return False\n",
    "            \n",
    "def page_rank(M,r):\n",
    "    prev_rank=r\n",
    "    new_rank=mat_mul(M,prev_rank)\n",
    "    for i in range(0,1000):\n",
    "        if(equi(new_rank,prev_rank)):\n",
    "            return new_rank\n",
    "        else:\n",
    "            prev_rank=new_rank\n",
    "            new_rank=mat_mul(M,prev_rank)\n",
    "    return new_rank\n",
    "\n",
    "            \n",
    "if __name__=='__main__':\n",
    "    k1=page_rank([[0,.5,0,0,0,.5],[.5,0,0,0,0,0],[0,.5,0,0,.5,.5],[0,0,1,0,0,0],[.5,0,0,.5,0,0],[0,0,0,.5,.5,0]],[1/6,1/6,1/6,1/6,1/6,1/6])\n",
    "    \n",
    "    \n",
    "    k=page_rank([[0,.25,0,0,0,.5],[.5,0,0,0,0,0],[0,.25,0,0,.5,.5],[0,.25,1,0,0,0],[.5,0,0,.5,0,0],[0,.25,0,.5,.5,0]],[1/6,1/6,1/6,1/6,1/6,1/6])\n",
    "    sum=0\n",
    "    sum_1=0\n",
    "    print(k)\n",
    "    print(k1)"
   ]
  },
  {
   "cell_type": "code",
   "execution_count": null,
   "id": "b77e7783",
   "metadata": {},
   "outputs": [],
   "source": []
  },
  {
   "cell_type": "code",
   "execution_count": null,
   "id": "212db724",
   "metadata": {},
   "outputs": [],
   "source": []
  }
 ],
 "metadata": {
  "kernelspec": {
   "display_name": "Python 3",
   "language": "python",
   "name": "python3"
  },
  "language_info": {
   "codemirror_mode": {
    "name": "ipython",
    "version": 3
   },
   "file_extension": ".py",
   "mimetype": "text/x-python",
   "name": "python",
   "nbconvert_exporter": "python",
   "pygments_lexer": "ipython3",
   "version": "3.8.8"
  }
 },
 "nbformat": 4,
 "nbformat_minor": 5
}
