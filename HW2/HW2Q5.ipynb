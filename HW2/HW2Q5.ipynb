{
 "cells": [
  {
   "cell_type": "code",
   "execution_count": 1,
   "id": "a85d56d8",
   "metadata": {
    "_cell_guid": "b1076dfc-b9ad-4769-8c92-a6c4dae69d19",
    "_uuid": "8f2839f25d086af736a60e9eeb907d3b93b6e0e5",
    "execution": {
     "iopub.execute_input": "2021-09-25T02:28:53.694616Z",
     "iopub.status.busy": "2021-09-25T02:28:53.693893Z",
     "iopub.status.idle": "2021-09-25T02:28:54.840675Z",
     "shell.execute_reply": "2021-09-25T02:28:54.841245Z",
     "shell.execute_reply.started": "2021-09-25T00:41:25.159912Z"
    },
    "papermill": {
     "duration": 1.165826,
     "end_time": "2021-09-25T02:28:54.841539",
     "exception": false,
     "start_time": "2021-09-25T02:28:53.675713",
     "status": "completed"
    },
    "tags": []
   },
   "outputs": [
    {
     "name": "stdout",
     "output_type": "stream",
     "text": [
      "/kaggle/input/movierankingsmall/ml-latest-small/movies.csv\n",
      "/kaggle/input/movierankingsmall/ml-latest-small/ratings.csv\n",
      "/kaggle/input/movierankingsmall/ml-latest-small/README.txt\n",
      "/kaggle/input/movierankingsmall/ml-latest-small/tags.csv\n",
      "/kaggle/input/movierankingsmall/ml-latest-small/links.csv\n"
     ]
    }
   ],
   "source": [
    "# This Python 3 environment comes with many helpful analytics libraries installed\n",
    "# It is defined by the kaggle/python Docker image: https://github.com/kaggle/docker-python\n",
    "# For example, here's several helpful packages to load\n",
    "\n",
    "import numpy as np # linear algebra\n",
    "import pandas as pd # data processing, CSV file I/O (e.g. pd.read_csv)\n",
    "\n",
    "# Input data files are available in the read-only \"../input/\" directory\n",
    "# For example, running this (by clicking run or pressing Shift+Enter) will list all files under the input directory\n",
    "\n",
    "import os\n",
    "for dirname, _, filenames in os.walk('/kaggle/input'):\n",
    "    for filename in filenames:\n",
    "        print(os.path.join(dirname, filename))\n",
    "from sklearn.decomposition import PCA\n",
    "\n",
    "# You can write up to 20GB to the current directory (/kaggle/working/) that gets preserved as output when you create a version using \"Save & Run All\" \n",
    "# You can also write temporary files to /kaggle/temp/, but they won't be saved outside of the current session"
   ]
  },
  {
   "cell_type": "code",
   "execution_count": 2,
   "id": "c31fcaff",
   "metadata": {
    "execution": {
     "iopub.execute_input": "2021-09-25T02:28:54.865168Z",
     "iopub.status.busy": "2021-09-25T02:28:54.864463Z",
     "iopub.status.idle": "2021-09-25T02:30:58.091447Z",
     "shell.execute_reply": "2021-09-25T02:30:58.091981Z",
     "shell.execute_reply.started": "2021-09-25T00:41:25.173967Z"
    },
    "papermill": {
     "duration": 123.242955,
     "end_time": "2021-09-25T02:30:58.092185",
     "exception": false,
     "start_time": "2021-09-25T02:28:54.849230",
     "status": "completed"
    },
    "tags": []
   },
   "outputs": [
    {
     "name": "stdout",
     "output_type": "stream",
     "text": [
      "[[ 4.  -1.   4.  ... -1.  -1.  -1. ]\n",
      " [-1.  -1.  -1.  ... -1.  -1.  -1. ]\n",
      " [-1.  -1.  -1.  ... -1.  -1.  -1. ]\n",
      " ...\n",
      " [ 2.5  2.   2.  ... -1.  -1.  -1. ]\n",
      " [ 3.  -1.  -1.  ... -1.  -1.  -1. ]\n",
      " [ 5.  -1.  -1.  ... -1.  -1.  -1. ]]\n"
     ]
    }
   ],
   "source": [
    "movies = pd.read_csv(\"../input/movierankingsmall/ml-latest-small/movies.csv\")\n",
    "ratings = pd.read_csv(\"../input/movierankingsmall/ml-latest-small/ratings.csv\")\n",
    "#print(ratings['userId'])\n",
    "dict_id={}\n",
    "k=1\n",
    "for i in movies['movieId']:\n",
    "    dict_id[k]=i\n",
    "    k=k+1\n",
    "#print(dict_id)\n",
    "dict_id_keys=dict_id.keys()\n",
    "dict_id_values=dict_id.values()\n",
    "dict_id_keys_list=[]\n",
    "dict_id_values_list=[]\n",
    "for i in dict_id_keys:\n",
    "    dict_id_keys_list.append(i)\n",
    "for i in dict_id_values:\n",
    "    dict_id_values_list.append(i)\n",
    "#print(dict_id_keys)\n",
    "#print(dict_id_values)\n",
    "ratings_set=set(ratings['userId'])\n",
    "#print(len(ratings_set))\n",
    "#print(len(movies['movieId']))\n",
    "A=[[-1.0]* (len(movies['movieId']))]*(len(ratings_set))\n",
    "A=np.array(A)\n",
    "#print(ratings['rating'][0])\n",
    "\n",
    "for i in range(len(ratings)):\n",
    "    k=ratings['userId'][i]\n",
    "    j=ratings['movieId'][i]\n",
    "    m=dict_id_values_list.index(j)\n",
    "    n=dict_id_keys_list[m]\n",
    "    A[k-1][n-1]=ratings['rating'][i]\n",
    "print(A)\n",
    "    \n",
    "    "
   ]
  },
  {
   "cell_type": "code",
   "execution_count": 3,
   "id": "1ea57363",
   "metadata": {
    "execution": {
     "iopub.execute_input": "2021-09-25T02:30:58.109430Z",
     "iopub.status.busy": "2021-09-25T02:30:58.108699Z",
     "iopub.status.idle": "2021-09-25T02:30:58.747374Z",
     "shell.execute_reply": "2021-09-25T02:30:58.746817Z",
     "shell.execute_reply.started": "2021-09-25T00:43:27.497347Z"
    },
    "papermill": {
     "duration": 0.649976,
     "end_time": "2021-09-25T02:30:58.747519",
     "exception": false,
     "start_time": "2021-09-25T02:30:58.097543",
     "status": "completed"
    },
    "tags": []
   },
   "outputs": [
    {
     "data": {
      "image/png": "[encoded data removed]",
      "text/plain": [
       "<Figure size 432x288 with 1 Axes>"
      ]
     },
     "metadata": {
      "needs_background": "light"
     },
     "output_type": "display_data"
    },
    {
     "name": "stdout",
     "output_type": "stream",
     "text": [
      "[0.13765798 0.04413443]\n"
     ]
    }
   ],
   "source": [
    "import matplotlib.pyplot as plt\n",
    "pca=PCA(n_components=2)\n",
    "principal_components=pca.fit_transform(A)\n",
    "pdf=pd.DataFrame(principal_components, columns=['pc1','pc2'])\n",
    "plt.scatter(pdf.pc1,pdf.pc2)\n",
    "plt.show()\n",
    "print(pca.explained_variance_ratio_)"
   ]
  },
  {
   "cell_type": "code",
   "execution_count": 4,
   "id": "b68d2757",
   "metadata": {
    "execution": {
     "iopub.execute_input": "2021-09-25T02:30:58.764518Z",
     "iopub.status.busy": "2021-09-25T02:30:58.763566Z",
     "iopub.status.idle": "2021-09-25T02:30:59.338125Z",
     "shell.execute_reply": "2021-09-25T02:30:59.337603Z",
     "shell.execute_reply.started": "2021-09-25T00:43:28.201145Z"
    },
    "papermill": {
     "duration": 0.584225,
     "end_time": "2021-09-25T02:30:59.338264",
     "exception": false,
     "start_time": "2021-09-25T02:30:58.754039",
     "status": "completed"
    },
    "tags": []
   },
   "outputs": [
    {
     "data": {
      "image/png": "[encoded data removed]",
      "text/plain": [
       "<Figure size 432x288 with 1 Axes>"
      ]
     },
     "metadata": {
      "needs_background": "light"
     },
     "output_type": "display_data"
    },
    {
     "name": "stdout",
     "output_type": "stream",
     "text": [
      "[0.17648039 0.04230572]\n"
     ]
    }
   ],
   "source": [
    "pca=PCA(n_components=2)\n",
    "principal_components=pca.fit_transform(A.T)\n",
    "pdf=pd.DataFrame(principal_components, columns=['pc1','pc2'])\n",
    "plt.scatter(pdf.pc1,pdf.pc2)\n",
    "plt.show()\n",
    "print(pca.explained_variance_ratio_)"
   ]
  }
 ],
 "metadata": {
  "kernelspec": {
   "display_name": "Python 3",
   "language": "python",
   "name": "python3"
  },
  "language_info": {
   "codemirror_mode": {
    "name": "ipython",
    "version": 3
   },
   "file_extension": ".py",
   "mimetype": "text/x-python",
   "name": "python",
   "nbconvert_exporter": "python",
   "pygments_lexer": "ipython3",
   "version": "3.7.10"
  },
  "papermill": {
   "default_parameters": {},
   "duration": 134.894468,
   "end_time": "2021-09-25T02:31:00.057345",
   "environment_variables": {},
   "exception": null,
   "input_path": "__notebook__.ipynb",
   "output_path": "__notebook__.ipynb",
   "parameters": {},
   "start_time": "2021-09-25T02:28:45.162877",
   "version": "2.3.3"
  }
 },
 "nbformat": 4,
 "nbformat_minor": 5
}
