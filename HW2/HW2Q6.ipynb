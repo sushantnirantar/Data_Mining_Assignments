{
 "cells": [
  {
   "cell_type": "code",
   "execution_count": 1,
   "id": "51922808",
   "metadata": {},
   "outputs": [
    {
     "data": {
      "image/png": "[encoded data removed]",
      "text/plain": [
       "<Figure size 432x288 with 1 Axes>"
      ]
     },
     "metadata": {
      "needs_background": "light"
     },
     "output_type": "display_data"
    }
   ],
   "source": [
    "import numpy as np\n",
    "from scipy.spatial import distance\n",
    "import matplotlib.pyplot as plt\n",
    "def eq_elem(a,b):\n",
    "    k=0\n",
    "    if(len(a)==len(b)):\n",
    "        for i in range(len(a)):\n",
    "            if(a[i]==b[i]):\n",
    "                k=k+1\n",
    "        if(k==len(a)):\n",
    "            return True\n",
    "        else:\n",
    "            return False\n",
    "    else:\n",
    "        return False\n",
    "def max_dist(a):\n",
    "    dist_max=-1\n",
    "    for i in range(len(a)):\n",
    "        for j in range(len(a)):\n",
    "            if(i==j):\n",
    "                continue\n",
    "            else:\n",
    "                dist=distance.euclidean(a[i],a[j])\n",
    "                if(dist>dist_max):\n",
    "                    dist_max=dist\n",
    "                else:\n",
    "                    continue\n",
    "    return dist_max\n",
    "\n",
    "def min_dist(a):\n",
    "    dist_min=np.inf\n",
    "    for i in range(len(a)):\n",
    "        for j in range(len(a)):\n",
    "            if(i==j):\n",
    "                continue\n",
    "            else:\n",
    "                dist=distance.euclidean(a[i],a[j])\n",
    "                if(dist<dist_min):\n",
    "                    dist_min=dist\n",
    "                else:\n",
    "                    continue\n",
    "    return dist_min\n",
    "\n",
    "yaxis=[]\n",
    "for i in range(2,51):\n",
    "    a=np.random.rand(500,i)\n",
    "    max_di=max_dist(a)\n",
    "    min_di=min_dist(a)\n",
    "    curse_of_dim=((max_di-min_di)/min_di)\n",
    "    log_curse_of_dim=np.log10(curse_of_dim)\n",
    "    yaxis.append(log_curse_of_dim)\n",
    "xaxis=[]\n",
    "for i in range(2,51):\n",
    "    xaxis.append(i)\n",
    "plt.xlabel(\"No. of Dimensions\")\n",
    "plt.ylabel(\"log10(Max_Dist-Min_Dist)/Min_Dist\")\n",
    "plt.plot(xaxis,yaxis)\n",
    "plt.show()\n"
   ]
  },
  {
   "cell_type": "code",
   "execution_count": 2,
   "id": "ae51a409",
   "metadata": {},
   "outputs": [
    {
     "name": "stdout",
     "output_type": "stream",
     "text": [
      "[3.3069523633830626, 1.955817124362452, 1.675476469880067, 1.2717089220357936, 1.2886408779890604, 1.0406293150430226, 1.0299752332948129, 0.9050195900148645, 0.8071341945644961, 0.7872424686785214, 0.7305134251442114, 0.6607102331619696, 0.5779262510252178, 0.5937515831025759, 0.6153799890538189, 0.4609649088723106, 0.5201530329007544, 0.394096983916787, 0.4021211478816706, 0.36062890471716175, 0.34305315946700216, 0.34763328535961635, 0.3175088349899534, 0.36529333039139356, 0.349198077127842, 0.31124694094943584, 0.26172309726266546, 0.3055724330679582, 0.30234287344018945, 0.2135325453156209, 0.22793371303261403, 0.22628021803134918, 0.1856675146695959, 0.27889055599084944, 0.14068373829112849, 0.20234756559782724, 0.1736645848786714, 0.18982482741037585, 0.1361978203787868, 0.1147963535085718, 0.2085327605449668, 0.13723980346165648, 0.14836642782348178, 0.10068990537894676, 0.1305271303218658, 0.08099706554403192, 0.037572697593011135, 0.10467224872971752, 0.05693874025471928]\n",
      "[2, 3, 4, 5, 6, 7, 8, 9, 10, 11, 12, 13, 14, 15, 16, 17, 18, 19, 20, 21, 22, 23, 24, 25, 26, 27, 28, 29, 30, 31, 32, 33, 34, 35, 36, 37, 38, 39, 40, 41, 42, 43, 44, 45, 46, 47, 48, 49, 50]\n"
     ]
    }
   ],
   "source": [
    "print(yaxis)\n",
    "print(xaxis)"
   ]
  },
  {
   "cell_type": "code",
   "execution_count": null,
   "id": "62b184a4",
   "metadata": {},
   "outputs": [],
   "source": []
  }
 ],
 "metadata": {
  "kernelspec": {
   "display_name": "Python 3",
   "language": "python",
   "name": "python3"
  },
  "language_info": {
   "codemirror_mode": {
    "name": "ipython",
    "version": 3
   },
   "file_extension": ".py",
   "mimetype": "text/x-python",
   "name": "python",
   "nbconvert_exporter": "python",
   "pygments_lexer": "ipython3",
   "version": "3.8.8"
  }
 },
 "nbformat": 4,
 "nbformat_minor": 5
}
