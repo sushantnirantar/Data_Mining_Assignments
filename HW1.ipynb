{
 "cells": [
  {
   "cell_type": "code",
   "execution_count": null,
   "metadata": {
    "_cell_guid": "b1076dfc-b9ad-4769-8c92-a6c4dae69d19",
    "_uuid": "8f2839f25d086af736a60e9eeb907d3b93b6e0e5",
    "execution": {
     "iopub.execute_input": "2021-09-06T00:36:40.610310Z",
     "iopub.status.busy": "2021-09-06T00:36:40.609952Z",
     "iopub.status.idle": "2021-09-06T00:36:40.618912Z",
     "shell.execute_reply": "2021-09-06T00:36:40.617454Z",
     "shell.execute_reply.started": "2021-09-06T00:36:40.610280Z"
    }
   },
   "outputs": [],
   "source": [
    "# This Python 3 environment comes with many helpful analytics libraries installed\n",
    "# It is defined by the kaggle/python Docker image: https://github.com/kaggle/docker-python\n",
    "# For example, here's several helpful packages to load\n",
    "\n",
    "import numpy as np # linear algebra\n",
    "import pandas as pd # data processing, CSV file I/O (e.g. pd.read_csv)\n",
    "\n",
    "# Input data files are available in the read-only \"../input/\" directory\n",
    "# For example, running this (by clicking run or pressing Shift+Enter) will list all files under the input directory\n",
    "\n",
    "import os\n",
    "for dirname, _, filenames in os.walk('/kaggle/input'):\n",
    "    for filename in filenames:\n",
    "        print(os.path.join(dirname, filename))\n",
    "\n",
    "# You can write up to 20GB to the current directory (/kaggle/working/) that gets preserved as output when you create a version using \"Save & Run All\" \n",
    "# You can also write temporary files to /kaggle/temp/, but they won't be saved outside of the current session"
   ]
  },
  {
   "cell_type": "code",
   "execution_count": 9,
   "metadata": {
    "execution": {
     "iopub.execute_input": "2021-09-06T00:36:40.621719Z",
     "iopub.status.busy": "2021-09-06T00:36:40.621333Z",
     "iopub.status.idle": "2021-09-06T00:36:40.641055Z",
     "shell.execute_reply": "2021-09-06T00:36:40.639854Z",
     "shell.execute_reply.started": "2021-09-06T00:36:40.621688Z"
    }
   },
   "outputs": [],
   "source": [
    "import pandas as pd\n",
    "import matplotlib.pyplot as plt\n",
    "csv_file='../input/b565hw1/Efaecium_AMRC.csv'\n",
    "df=pd.read_csv(csv_file)\n"
   ]
  },
  {
   "cell_type": "code",
   "execution_count": 10,
   "metadata": {
    "execution": {
     "iopub.execute_input": "2021-09-06T00:36:40.644132Z",
     "iopub.status.busy": "2021-09-06T00:36:40.643749Z",
     "iopub.status.idle": "2021-09-06T00:36:40.653192Z",
     "shell.execute_reply": "2021-09-06T00:36:40.652112Z",
     "shell.execute_reply.started": "2021-09-06T00:36:40.644096Z"
    }
   },
   "outputs": [
    {
     "name": "stdout",
     "output_type": "stream",
     "text": [
      "Index(['genome_ID', 'CRISPR_Cas', 'AMR'], dtype='object')\n"
     ]
    }
   ],
   "source": [
    "print(df.columns)"
   ]
  },
  {
   "cell_type": "code",
   "execution_count": 11,
   "metadata": {
    "execution": {
     "iopub.execute_input": "2021-09-06T00:36:40.654701Z",
     "iopub.status.busy": "2021-09-06T00:36:40.654437Z",
     "iopub.status.idle": "2021-09-06T00:36:40.672596Z",
     "shell.execute_reply": "2021-09-06T00:36:40.671345Z",
     "shell.execute_reply.started": "2021-09-06T00:36:40.654674Z"
    }
   },
   "outputs": [
    {
     "name": "stdout",
     "output_type": "stream",
     "text": [
      "                               genome_ID  CRISPR_Cas  AMR\n",
      "0           GCA_010120755.1_ASM1012075v1           0    8\n",
      "1            GCA_001720945.1_ASM172094v1           0   21\n",
      "2            GCA_009697285.1_ASM969728v1           0   13\n",
      "3  GCA_900639535.1_E8202_hybrid_assembly           0   11\n",
      "4            GCA_002007625.1_ASM200762v1           0   18\n",
      "5  GCA_900639715.1_E8414_hybrid_assembly           0   14\n",
      "6  GCA_900639485.1_E7240_hybrid_assembly           0   25\n",
      "7            GCA_002025045.1_ASM202504v1           0   20\n",
      "8           GCA_016415405.1_ASM1641540v1           0   17\n",
      "9            GCA_001518735.1_ASM151873v1           0   14\n"
     ]
    }
   ],
   "source": [
    "print(df.head(10))"
   ]
  },
  {
   "cell_type": "code",
   "execution_count": 12,
   "metadata": {
    "execution": {
     "iopub.execute_input": "2021-09-06T00:36:40.674158Z",
     "iopub.status.busy": "2021-09-06T00:36:40.673902Z",
     "iopub.status.idle": "2021-09-06T00:36:40.695939Z",
     "shell.execute_reply": "2021-09-06T00:36:40.694443Z",
     "shell.execute_reply.started": "2021-09-06T00:36:40.674131Z"
    }
   },
   "outputs": [
    {
     "name": "stdout",
     "output_type": "stream",
     "text": [
      "        CRISPR_Cas          AMR\n",
      "count  2223.000000  2223.000000\n",
      "mean      0.024741    10.330184\n",
      "std       0.155371     6.661470\n",
      "min       0.000000     0.000000\n",
      "25%       0.000000     3.000000\n",
      "50%       0.000000    12.000000\n",
      "75%       0.000000    16.000000\n",
      "max       1.000000    31.000000\n"
     ]
    }
   ],
   "source": [
    "print(df.describe())"
   ]
  },
  {
   "cell_type": "code",
   "execution_count": 13,
   "metadata": {
    "execution": {
     "iopub.execute_input": "2021-09-06T00:36:40.697668Z",
     "iopub.status.busy": "2021-09-06T00:36:40.697364Z",
     "iopub.status.idle": "2021-09-06T00:36:40.876713Z",
     "shell.execute_reply": "2021-09-06T00:36:40.875896Z",
     "shell.execute_reply.started": "2021-09-06T00:36:40.697639Z"
    }
   },
   "outputs": [
    {
     "data": {
      "text/plain": [
       "<AxesSubplot:ylabel='Frequency'>"
      ]
     },
     "execution_count": 13,
     "metadata": {},
     "output_type": "execute_result"
    },
    {
     "data": {
      "image/png": "[encoded data removed]",
      "text/plain": [
       "<Figure size 432x288 with 1 Axes>"
      ]
     },
     "metadata": {
      "needs_background": "light"
     },
     "output_type": "display_data"
    }
   ],
   "source": [
    "df['AMR'].plot(kind='hist')"
   ]
  },
  {
   "cell_type": "code",
   "execution_count": 14,
   "metadata": {
    "execution": {
     "iopub.execute_input": "2021-09-06T00:36:40.878787Z",
     "iopub.status.busy": "2021-09-06T00:36:40.878414Z",
     "iopub.status.idle": "2021-09-06T00:36:41.048220Z",
     "shell.execute_reply": "2021-09-06T00:36:41.046897Z",
     "shell.execute_reply.started": "2021-09-06T00:36:40.878749Z"
    }
   },
   "outputs": [
    {
     "data": {
      "text/plain": [
       "<AxesSubplot:ylabel='Frequency'>"
      ]
     },
     "execution_count": 14,
     "metadata": {},
     "output_type": "execute_result"
    },
    {
     "data": {
      "image/png": "[encoded data removed]",
      "text/plain": [
       "<Figure size 432x288 with 1 Axes>"
      ]
     },
     "metadata": {
      "needs_background": "light"
     },
     "output_type": "display_data"
    }
   ],
   "source": [
    "df['CRISPR_Cas'].plot(kind='hist')"
   ]
  },
  {
   "cell_type": "code",
   "execution_count": null,
   "metadata": {},
   "outputs": [],
   "source": []
  },
  {
   "cell_type": "code",
   "execution_count": 15,
   "metadata": {
    "execution": {
     "iopub.execute_input": "2021-09-06T00:36:41.050010Z",
     "iopub.status.busy": "2021-09-06T00:36:41.049711Z",
     "iopub.status.idle": "2021-09-06T00:36:41.197964Z",
     "shell.execute_reply": "2021-09-06T00:36:41.197396Z",
     "shell.execute_reply.started": "2021-09-06T00:36:41.049981Z"
    }
   },
   "outputs": [
    {
     "data": {
      "image/png": "[encoded data removed]",
      "text/plain": [
       "<Figure size 432x288 with 1 Axes>"
      ]
     },
     "metadata": {
      "needs_background": "light"
     },
     "output_type": "display_data"
    }
   ],
   "source": [
    "plt.scatter(df['CRISPR_Cas'],df['AMR'],color='green')\n",
    "plt.xlabel('CRISPR_Cas')\n",
    "plt.ylabel('AMR')\n",
    "plt.show()"
   ]
  },
  {
   "cell_type": "code",
   "execution_count": null,
   "metadata": {},
   "outputs": [],
   "source": []
  }
 ],
 "metadata": {
  "kernelspec": {
   "display_name": "Python 3",
   "language": "python",
   "name": "python3"
  },
  "language_info": {
   "codemirror_mode": {
    "name": "ipython",
    "version": 3
   },
   "file_extension": ".py",
   "mimetype": "text/x-python",
   "name": "python",
   "nbconvert_exporter": "python",
   "pygments_lexer": "ipython3",
   "version": "3.8.8"
  }
 },
 "nbformat": 4,
 "nbformat_minor": 4
}
